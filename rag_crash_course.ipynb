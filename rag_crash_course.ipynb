{
 "cells": [
  {
   "cell_type": "code",
   "execution_count": 134,
   "metadata": {},
   "outputs": [],
   "source": [
    "import os\n",
    "from dotenv import load_dotenv\n",
    "load_dotenv()\n",
    "OPENAI_API_KEY = os.getenv(\"OPENAI_API_KEY\")\n",
    "LANGSMITH_TRACING=os.getenv(\"LANGSMITH_TRACING\")\n",
    "LANGSMITH_ENDPOINT=os.getenv(\"LANGSMITH_ENDPOINT\")\n",
    "LANGSMITH_API_KEY=os.getenv(\"LANGSMITH_API_KEY\")\n",
    "LANGSMITH_PROJECT=os.getenv(\"LANGSMITH_PROJECT\")"
   ]
  },
  {
   "cell_type": "markdown",
   "metadata": {},
   "source": [
    "# Simple LLM Call"
   ]
  },
  {
   "cell_type": "code",
   "execution_count": 129,
   "metadata": {},
   "outputs": [
    {
     "data": {
      "text/plain": [
       "AIMessage(content='Hello! How can I assist you today?', additional_kwargs={'refusal': None}, response_metadata={'token_usage': {'completion_tokens': 10, 'prompt_tokens': 11, 'total_tokens': 21, 'completion_tokens_details': {'audio_tokens': 0, 'reasoning_tokens': 0, 'accepted_prediction_tokens': 0, 'rejected_prediction_tokens': 0}, 'prompt_tokens_details': {'audio_tokens': 0, 'cached_tokens': 0}}, 'model_name': 'gpt-4o-mini-2024-07-18', 'system_fingerprint': 'fp_bd83329f63', 'finish_reason': 'stop', 'logprobs': None}, id='run-ad2e96ab-3956-4374-95c1-1502361fe656-0', usage_metadata={'input_tokens': 11, 'output_tokens': 10, 'total_tokens': 21, 'input_token_details': {'audio': 0, 'cache_read': 0}, 'output_token_details': {'audio': 0, 'reasoning': 0}})"
      ]
     },
     "execution_count": 129,
     "metadata": {},
     "output_type": "execute_result"
    }
   ],
   "source": [
    "from langchain_openai import ChatOpenAI\n",
    "MODEL = \"gpt-4o-mini\"\n",
    "llm = ChatOpenAI(api_key=OPENAI_API_KEY, model=MODEL)\n",
    "llm.invoke(\"Hello, world!\")"
   ]
  },
  {
   "cell_type": "code",
   "execution_count": 3,
   "metadata": {},
   "outputs": [
    {
     "data": {
      "text/plain": [
       "AIMessage(content='Why don’t scientists trust atoms?\\n\\nBecause they make up everything!', additional_kwargs={'refusal': None}, response_metadata={'token_usage': {'completion_tokens': 14, 'prompt_tokens': 11, 'total_tokens': 25, 'completion_tokens_details': {'audio_tokens': 0, 'reasoning_tokens': 0, 'accepted_prediction_tokens': 0, 'rejected_prediction_tokens': 0}, 'prompt_tokens_details': {'audio_tokens': 0, 'cached_tokens': 0}}, 'model_name': 'gpt-4o-mini-2024-07-18', 'system_fingerprint': 'fp_72ed7ab54c', 'finish_reason': 'stop', 'logprobs': None}, id='run-cebb5269-dc2c-4664-b4cd-a37d6e60cabf-0', usage_metadata={'input_tokens': 11, 'output_tokens': 14, 'total_tokens': 25, 'input_token_details': {'audio': 0, 'cache_read': 0}, 'output_token_details': {'audio': 0, 'reasoning': 0}})"
      ]
     },
     "execution_count": 3,
     "metadata": {},
     "output_type": "execute_result"
    }
   ],
   "source": [
    "llm_response = llm.invoke(\"Tell me a joke\")\n",
    "llm_response"
   ]
  },
  {
   "cell_type": "markdown",
   "metadata": {},
   "source": [
    "# Parse Output"
   ]
  },
  {
   "cell_type": "code",
   "execution_count": 4,
   "metadata": {},
   "outputs": [
    {
     "data": {
      "text/plain": [
       "'Why don’t scientists trust atoms?\\n\\nBecause they make up everything!'"
      ]
     },
     "execution_count": 4,
     "metadata": {},
     "output_type": "execute_result"
    }
   ],
   "source": [
    "from langchain_core.output_parsers import StrOutputParser\n",
    "\n",
    "str_output_parser = StrOutputParser()\n",
    "str_output_parser.invoke(llm_response)"
   ]
  },
  {
   "cell_type": "markdown",
   "metadata": {},
   "source": [
    "# Simple Chain"
   ]
  },
  {
   "cell_type": "code",
   "execution_count": 5,
   "metadata": {},
   "outputs": [
    {
     "data": {
      "text/plain": [
       "'Why did the scarecrow win an award? \\n\\nBecause he was outstanding in his field!'"
      ]
     },
     "execution_count": 5,
     "metadata": {},
     "output_type": "execute_result"
    }
   ],
   "source": [
    "chain = llm | str_output_parser\n",
    "chain.invoke(\"Tell me a joke\")"
   ]
  },
  {
   "cell_type": "markdown",
   "metadata": {},
   "source": [
    "# Structured Output"
   ]
  },
  {
   "cell_type": "code",
   "execution_count": 6,
   "metadata": {},
   "outputs": [
    {
     "data": {
      "text/plain": [
       "MobileReview(phone_model='Samsung Galaxy S21', rating=4.0, pros=['Gorgeous screen', 'Vibrant colors', 'Insane camera performance, especially at night', 'Solid battery life'], cons=['Pretty pricey', 'No charger included', 'New button layout takes getting used to'], summary='Overall, a solid 4 out of 5. Great phone, but a few annoying quirks keep it from being perfect.')"
      ]
     },
     "execution_count": 6,
     "metadata": {},
     "output_type": "execute_result"
    }
   ],
   "source": [
    "from typing import List\n",
    "from pydantic import BaseModel, Field\n",
    "\n",
    "class MobileReview(BaseModel):\n",
    "    phone_model: str = Field(description= \"Name and model of the phone\")\n",
    "    rating: float = Field(description= \"Overall rating out of 5\")\n",
    "    pros: List[str] = Field(description= \"List of positive aspects\")\n",
    "    cons: List[str] = Field(description= \"List of negative aspects\")\n",
    "    summary: str = Field(description= \"Brief summary of the review\")\n",
    "\n",
    "review_text = \"\"\"\n",
    "Just got my hands on the new Galaxy S21 and wow, this thing is slick! The screen is gorgeous, colors pop like crazy. Camera's insane too, especially at night - my Insta game's never been stronger. Battery life's solid, lasts me all day no problem.\n",
    "\n",
    "Not gonna lie though, it's pretty pricey. And what's with ditching the charger? C'mon Samsung. Also, still getting used to the new button layout, keep hitting Bixby by mistake.\n",
    "\n",
    "Overall, I'd say it's a solid 4 out 5. Great phone, but a few annoying quirks keep it from being perfect. If you're due for an upgrade, definitely worth checking out!\n",
    "\"\"\"\n",
    "\n",
    "structured_llm = llm.with_structured_output(MobileReview)\n",
    "output = structured_llm.invoke(review_text)\n",
    "# structured output\n",
    "output"
   ]
  },
  {
   "cell_type": "code",
   "execution_count": 7,
   "metadata": {},
   "outputs": [
    {
     "data": {
      "text/plain": [
       "('Samsung Galaxy S21', 4.0)"
      ]
     },
     "execution_count": 7,
     "metadata": {},
     "output_type": "execute_result"
    }
   ],
   "source": [
    "output.phone_model, output.rating"
   ]
  },
  {
   "cell_type": "code",
   "execution_count": 8,
   "metadata": {},
   "outputs": [
    {
     "data": {
      "text/plain": [
       "\"It sounds like you're really enjoying your new Galaxy S21! The vibrant screen and impressive camera capabilities are definitely standout features that make it a great choice for photography enthusiasts and social media users alike. It's understandable to feel a bit frustrated about the lack of a charger in the box—many users have expressed similar concerns.\\n\\nAs for the button layout, it can take some time to adjust, especially if you're used to a different design. Hopefully, you'll get the hang of it soon and avoid those accidental Bixby activations!\\n\\nYour 4 out of 5 rating reflects a balanced view, highlighting both the phone's strengths and its minor drawbacks. It sounds like a fantastic option for anyone looking to upgrade. Enjoy capturing those amazing shots and sharing them on Instagram!\""
      ]
     },
     "execution_count": 8,
     "metadata": {},
     "output_type": "execute_result"
    }
   ],
   "source": [
    "# non-structured output\n",
    "str_output_parser.invoke(llm.invoke(review_text))"
   ]
  },
  {
   "cell_type": "markdown",
   "metadata": {},
   "source": [
    "# Prompt Template"
   ]
  },
  {
   "cell_type": "code",
   "execution_count": 9,
   "metadata": {},
   "outputs": [
    {
     "data": {
      "text/plain": [
       "ChatPromptValue(messages=[HumanMessage(content='Tell me a short joke about programming.', additional_kwargs={}, response_metadata={})])"
      ]
     },
     "execution_count": 9,
     "metadata": {},
     "output_type": "execute_result"
    }
   ],
   "source": [
    "from langchain_core.prompts import ChatPromptTemplate\n",
    "prompt = ChatPromptTemplate.from_template(\"Tell me a short joke about {topic}.\")\n",
    "prompt.invoke({\"topic\": \"programming\"})"
   ]
  },
  {
   "cell_type": "code",
   "execution_count": 10,
   "metadata": {},
   "outputs": [
    {
     "data": {
      "text/plain": [
       "'Why do programmers prefer dark mode?\\n\\nBecause light attracts bugs!'"
      ]
     },
     "execution_count": 10,
     "metadata": {},
     "output_type": "execute_result"
    }
   ],
   "source": [
    "chain = prompt | llm | str_output_parser\n",
    "chain.invoke({\"topic\": \"programming\"})"
   ]
  },
  {
   "cell_type": "code",
   "execution_count": 11,
   "metadata": {},
   "outputs": [
    {
     "name": "stdout",
     "output_type": "stream",
     "text": [
      "Why do programmers prefer dark mode?\n",
      "\n",
      "Because light attracts bugs!\n"
     ]
    }
   ],
   "source": [
    "from langchain_openai import ChatOpenAI\n",
    "from langchain_core.prompts import ChatPromptTemplate\n",
    "from langchain_core.output_parsers import StrOutputParser\n",
    "\n",
    "# define the prompt\n",
    "prompt = ChatPromptTemplate.from_template(\"Tell me a short joke about {topic}.\")\n",
    "\n",
    "# initialize the llm\n",
    "llm = ChatOpenAI(api_key=OPENAI_API_KEY, model=\"gpt-4o-mini\")\n",
    "\n",
    "# define the output parser\n",
    "output_parser = StrOutputParser()\n",
    "\n",
    "# compose the chain\n",
    "chain = prompt | llm | output_parser\n",
    "\n",
    "# run the chain and generate response\n",
    "result = chain.invoke({\"topic\": \"programming\"})\n",
    "print(result)"
   ]
  },
  {
   "cell_type": "markdown",
   "metadata": {},
   "source": [
    "# LLM Messages"
   ]
  },
  {
   "cell_type": "code",
   "execution_count": 12,
   "metadata": {},
   "outputs": [
    {
     "data": {
      "text/plain": [
       "AIMessage(content=\"Sure! Programming is the process of creating a set of instructions that a computer can understand and execute. It involves writing code in various programming languages, such as Python, Java, C++, and many others, to build software applications, websites, games, and more.\\n\\nAnd speaking of programming, here's a joke for you:\\n\\nWhy do programmers prefer dark mode?\\n\\nBecause light attracts bugs!\", additional_kwargs={'refusal': None}, response_metadata={'token_usage': {'completion_tokens': 77, 'prompt_tokens': 25, 'total_tokens': 102, 'completion_tokens_details': {'audio_tokens': 0, 'reasoning_tokens': 0, 'accepted_prediction_tokens': 0, 'rejected_prediction_tokens': 0}, 'prompt_tokens_details': {'audio_tokens': 0, 'cached_tokens': 0}}, 'model_name': 'gpt-4o-mini-2024-07-18', 'system_fingerprint': 'fp_72ed7ab54c', 'finish_reason': 'stop', 'logprobs': None}, id='run-66115f2e-b62b-4df2-bffb-2b916f168629-0', usage_metadata={'input_tokens': 25, 'output_tokens': 77, 'total_tokens': 102, 'input_token_details': {'audio': 0, 'cache_read': 0}, 'output_token_details': {'audio': 0, 'reasoning': 0}})"
      ]
     },
     "execution_count": 12,
     "metadata": {},
     "output_type": "execute_result"
    }
   ],
   "source": [
    "from langchain_core.output_parsers import StrOutputParser\n",
    "from langchain_core.messages import HumanMessage, SystemMessage\n",
    "\n",
    "system_message = SystemMessage(content= \"You are a helpful assistant that tells jokes.\")\n",
    "human_message = HumanMessage(content= \"Tell me about programming.\")\n",
    "llm.invoke(([system_message, human_message]))"
   ]
  },
  {
   "cell_type": "code",
   "execution_count": 13,
   "metadata": {},
   "outputs": [
    {
     "data": {
      "text/plain": [
       "ChatPromptValue(messages=[SystemMessage(content='You are a helpful assistant that tells jokes.', additional_kwargs={}, response_metadata={}), HumanMessage(content='Tell me about programming', additional_kwargs={}, response_metadata={})])"
      ]
     },
     "execution_count": 13,
     "metadata": {},
     "output_type": "execute_result"
    }
   ],
   "source": [
    "template = ChatPromptTemplate([\n",
    "    (\"system\", \"You are a helpful assistant that tells jokes.\"),\n",
    "    (\"human\", \"Tell me about {topic}\")\n",
    "])\n",
    "\n",
    "prompt_value = template.invoke(\n",
    "    {\"topic\": \"programming\"}\n",
    ")\n",
    "prompt_value"
   ]
  },
  {
   "cell_type": "code",
   "execution_count": 14,
   "metadata": {},
   "outputs": [
    {
     "data": {
      "text/plain": [
       "AIMessage(content='Sure! Here’s a light-hearted joke about programming:\\n\\nWhy do programmers prefer dark mode?\\n\\nBecause light attracts bugs! \\n\\nIf you have any specific questions about programming or want to hear more jokes, feel free to ask!', additional_kwargs={'refusal': None}, response_metadata={'token_usage': {'completion_tokens': 45, 'prompt_tokens': 24, 'total_tokens': 69, 'completion_tokens_details': {'audio_tokens': 0, 'reasoning_tokens': 0, 'accepted_prediction_tokens': 0, 'rejected_prediction_tokens': 0}, 'prompt_tokens_details': {'audio_tokens': 0, 'cached_tokens': 0}}, 'model_name': 'gpt-4o-mini-2024-07-18', 'system_fingerprint': 'fp_72ed7ab54c', 'finish_reason': 'stop', 'logprobs': None}, id='run-c5709137-ff10-4b21-8716-ca30d50d1ed3-0', usage_metadata={'input_tokens': 24, 'output_tokens': 45, 'total_tokens': 69, 'input_token_details': {'audio': 0, 'cache_read': 0}, 'output_token_details': {'audio': 0, 'reasoning': 0}})"
      ]
     },
     "execution_count": 14,
     "metadata": {},
     "output_type": "execute_result"
    }
   ],
   "source": [
    "llm.invoke(prompt_value)"
   ]
  },
  {
   "cell_type": "markdown",
   "metadata": {},
   "source": [
    "# RAG"
   ]
  },
  {
   "cell_type": "code",
   "execution_count": 49,
   "metadata": {},
   "outputs": [],
   "source": [
    "from langchain_community.document_loaders import PyPDFLoader, Docx2txtLoader\n",
    "from langchain_text_splitters import RecursiveCharacterTextSplitter\n",
    "from langchain_openai import OpenAIEmbeddings\n",
    "from typing import List\n",
    "from langchain_core.documents import Document\n",
    "import os\n",
    "\n",
    "CHUNK_SIZE = 1000\n",
    "text_splitter = RecursiveCharacterTextSplitter(\n",
    "    chunk_size = CHUNK_SIZE,\n",
    "    chunk_overlap = CHUNK_SIZE*0.1,\n",
    "    length_function = len\n",
    ")\n",
    "\n",
    "docx_loader = Docx2txtLoader(\"Data\\HDFC Quarterly Results.docx\")\n",
    "documents = docx_loader.load()\n",
    "\n",
    "splits = text_splitter.split_documents(documents)"
   ]
  },
  {
   "cell_type": "code",
   "execution_count": null,
   "metadata": {},
   "outputs": [],
   "source": [
    "pdf_loader = PyPDFLoader(\"Data\\Reliance Quarterly Results.pdf\")\n",
    "documents = pdf_loader.load()\n",
    "documents"
   ]
  },
  {
   "cell_type": "code",
   "execution_count": 54,
   "metadata": {},
   "outputs": [],
   "source": [
    "# function to load documents from a folder\n",
    "def load_documents(folder_path: str) -> List[Document]:\n",
    "    documents = []\n",
    "    file_names = os.listdir(folder_path)\n",
    "    for file_name in file_names:\n",
    "        file_path = os.path.join(folder_path, file_name)\n",
    "\n",
    "        if file_name.lower().endswith('.pdf'):\n",
    "            loader = PyPDFLoader(file_path)\n",
    "        elif file_name.lower().endswith('.docx'):\n",
    "            loader = Docx2txtLoader(file_path)\n",
    "        else:\n",
    "            print(f'Unsupported file type: {file_name}')\n",
    "            continue\n",
    "        documents.extend(loader.load())\n",
    "    return documents"
   ]
  },
  {
   "cell_type": "code",
   "execution_count": 58,
   "metadata": {},
   "outputs": [
    {
     "name": "stdout",
     "output_type": "stream",
     "text": [
      "Unsupported file type: HDFC Quarterly Results.doc\n",
      "SUCCESS: Loaded 42 documents from the folder.\n",
      "SUCCESS: Split the documents into 201 chunks.\n"
     ]
    }
   ],
   "source": [
    "# load documents from a folder\n",
    "folder_path = \"D:\\ML\\LangChain RAG Crash Course\\Data\"\n",
    "documents = load_documents(folder_path= folder_path)\n",
    "print(f\"SUCCESS: Loaded {len(documents)} documents from the folder.\")\n",
    "\n",
    "splits = text_splitter.split_documents(documents)\n",
    "print(f\"SUCCESS: Split the documents into {len(splits)} chunks.\")"
   ]
  },
  {
   "cell_type": "code",
   "execution_count": 70,
   "metadata": {},
   "outputs": [
    {
     "data": {
      "text/plain": [
       "(201,\n",
       " 1536,\n",
       " [-0.011530634015798569,\n",
       "  -0.015186353586614132,\n",
       "  0.0009800695115700364,\n",
       "  -0.014760310761630535,\n",
       "  -0.017371539026498795,\n",
       "  0.021879343315958977,\n",
       "  -0.003741615219041705,\n",
       "  0.0169729832559824,\n",
       "  -0.03438575193285942,\n",
       "  -0.020807364955544472])"
      ]
     },
     "execution_count": 70,
     "metadata": {},
     "output_type": "execute_result"
    }
   ],
   "source": [
    "# create embeddings\n",
    "embeddings = OpenAIEmbeddings()\n",
    "document_embeddings = embeddings.embed_documents([split.page_content for split in splits])\n",
    "len(document_embeddings), len(document_embeddings[2]), document_embeddings[0][:10]"
   ]
  },
  {
   "cell_type": "code",
   "execution_count": null,
   "metadata": {},
   "outputs": [],
   "source": [
    "from langchain_community.embeddings.sentence_transformer import SentenceTransformerEmbeddings\n",
    "\n",
    "embedding_function= SentenceTransformerEmbeddings(model_name= 'all-MiniLM-L6-v2')\n",
    "document_embeddings= embedding_function.embed_documents([split.page_content for split in splits])\n",
    "len(document_embeddings), len(document_embeddings[2]), document_embeddings[0][:10]"
   ]
  },
  {
   "cell_type": "code",
   "execution_count": 81,
   "metadata": {},
   "outputs": [
    {
     "data": {
      "text/plain": [
       "'d:\\\\ML\\\\LangChain RAG Crash Course\\\\chroma_db'"
      ]
     },
     "execution_count": 81,
     "metadata": {},
     "output_type": "execute_result"
    }
   ],
   "source": [
    "os.path.join(os.getcwd(), \"chroma_db\")"
   ]
  },
  {
   "cell_type": "code",
   "execution_count": 89,
   "metadata": {},
   "outputs": [
    {
     "name": "stdout",
     "output_type": "stream",
     "text": [
      "Vector store created and persisted to: d:\\ML\\LangChain RAG Crash Course\\chroma_db\n"
     ]
    }
   ],
   "source": [
    "# create vector store db and store\n",
    "from langchain_chroma import Chroma\n",
    "\n",
    "embedding_function= OpenAIEmbeddings()\n",
    "collection_name= \"my_collection\"\n",
    "vector_store= Chroma.from_documents(collection_name= collection_name,\n",
    "                                     documents= splits,\n",
    "                                     embedding= embedding_function)\n",
    "Chroma.from_documents(\n",
    "    collection_name= collection_name,\n",
    "    documents= splits,\n",
    "    embedding= embedding_function,\n",
    "    persist_directory= \"./chroma_db\"\n",
    ")\n",
    "\n",
    "print(f\"Vector store created and persisted to: {os.path.join(os.getcwd(), 'chroma_db')}\")"
   ]
  },
  {
   "cell_type": "code",
   "execution_count": 92,
   "metadata": {},
   "outputs": [
    {
     "name": "stdout",
     "output_type": "stream",
     "text": [
      "\n",
      "Top 2 most relevant chunks for the query: HDFC Bank's results are for which quarter?\n",
      "\n",
      "Result 1\n",
      "Source: D:\\ML\\LangChain RAG Crash Course\\Data\\HDFC Quarterly Results.pdf\n",
      "Content:\n",
      "Regd. Office: HDFC Bank Limited, HDFC Bank House, Senapati Bapat Marg, Lower Parel (West), Mumbai – 400 013 \n",
      " \n",
      " \n",
      " \n",
      " \n",
      "Ref. No. SE/2024-25/85  \n",
      " \n",
      "October 25, 2024 \n",
      " \n",
      "BSE Limited     National Stock Exchange of India Limited  \n",
      "Dept of Corporate Services   The Listing Department \n",
      "Phiroze Jeejeebhoy Towers,   Exchange Plaza \n",
      "Dalal Street, Fort,    Bandra Kurla Complex, \n",
      "Mumbai 400 001    Mumbai 400 051 \n",
      " \n",
      "Dear Sirs, \n",
      " \n",
      "Sub: Transcript of Earnings Call for the quarter and half year ended September 30, \n",
      "2024  \n",
      " \n",
      "We wish to inform you that pursuant to Regulation 30 of the SEBI (Listing Obligations and \n",
      "Disclosure Requirements) Regulations, 2015, the transcript of the Earnings Call with analysts \n",
      "and investors held on October 19, 2024 with respect to the financial results of the Bank for \n",
      "the quarter and half year ended September 30, 2024, has been made available on the website \n",
      "of the Bank at the below link:  \n",
      " \n",
      "https://www.hdfcbank.com/personal/about-us/investor-relations/financial-results\n",
      "\n",
      "Result 2\n",
      "Source: D:\\ML\\LangChain RAG Crash Course\\Data\\HDFC Quarterly Results.docx\n",
      "Content:\n",
      "CIN: L65920MH1994PLC080618\n",
      "\n",
      "HDFC Bank Limited,\n",
      "\n",
      "Email: shareholder.grievances@hdfcbank.com\n",
      "\n",
      "HDFC House,\n",
      "\n",
      "Website: www.hdfcbank.com\n",
      "\n",
      "H.T.  Parekh  Marg  165-166,  Backbay\n",
      "\n",
      "\n",
      "\n",
      "\n",
      "\n",
      "Reclamation,   Churchgate,   Mumbai-\n",
      "\n",
      "\n",
      "\n",
      "\n",
      "\n",
      "400020 Tel.:022-66316000\n",
      "\n",
      "Ref. No. SE/2024-25/85\n",
      "\n",
      "\n",
      "\n",
      "\n",
      "\n",
      "October 25, 2024\n",
      "\n",
      "\n",
      "\n",
      "\n",
      "\n",
      "BSE Limited\n",
      "\n",
      "National Stock Exchange of India Limited\n",
      "\n",
      "Dept of Corporate Services\n",
      "\n",
      "The Listing Department\n",
      "\n",
      "\n",
      "\n",
      "Phiroze Jeejeebhoy Towers,\n",
      "\n",
      "Exchange Plaza\n",
      "\n",
      "\n",
      "\n",
      "Dalal Street, Fort,\n",
      "\n",
      "Bandra Kurla Complex,\n",
      "\n",
      "\n",
      "\n",
      "Mumbai 400 001\n",
      "\n",
      "Mumbai 400 051\n",
      "\n",
      "\n",
      "\n",
      "\n",
      "\n",
      "\n",
      "\n",
      "Dear Sirs,\n",
      "\n",
      "\n",
      "\n",
      "Sub: Transcript of Earnings Call for the quarter and half year ended September 30, 2024\n",
      "\n"
     ]
    }
   ],
   "source": [
    "# perform similarity search\n",
    "query = \"HDFC Bank's results are for which quarter?\"\n",
    "search_results = vector_store.similarity_search(query= query, k= 2)\n",
    "\n",
    "print(f\"\\nTop 2 most relevant chunks for the query: {query}\\n\")\n",
    "for i, result in enumerate(search_results, 1):\n",
    "    print(f\"Result {i}\")\n",
    "    print(f\"Source: {result.metadata.get('source', 'Unknown')}\")\n",
    "    print(f\"Content:\\n{result.page_content}\")\n",
    "    print()"
   ]
  },
  {
   "cell_type": "code",
   "execution_count": 93,
   "metadata": {},
   "outputs": [
    {
     "data": {
      "text/plain": [
       "[Document(id='3f61be07-0d14-4162-affc-b18f44bb8a76', metadata={'page': 0, 'source': 'D:\\\\ML\\\\LangChain RAG Crash Course\\\\Data\\\\HDFC Quarterly Results.pdf'}, page_content='Regd. Office: HDFC Bank Limited, HDFC Bank House, Senapati Bapat Marg, Lower Parel (West), Mumbai – 400 013 \\n \\n \\n \\n \\nRef. No. SE/2024-25/85  \\n \\nOctober 25, 2024 \\n \\nBSE Limited     National Stock Exchange of India Limited  \\nDept of Corporate Services   The Listing Department \\nPhiroze Jeejeebhoy Towers,   Exchange Plaza \\nDalal Street, Fort,    Bandra Kurla Complex, \\nMumbai 400 001    Mumbai 400 051 \\n \\nDear Sirs, \\n \\nSub: Transcript of Earnings Call for the quarter and half year ended September 30, \\n2024  \\n \\nWe wish to inform you that pursuant to Regulation 30 of the SEBI (Listing Obligations and \\nDisclosure Requirements) Regulations, 2015, the transcript of the Earnings Call with analysts \\nand investors held on October 19, 2024 with respect to the financial results of the Bank for \\nthe quarter and half year ended September 30, 2024, has been made available on the website \\nof the Bank at the below link:  \\n \\nhttps://www.hdfcbank.com/personal/about-us/investor-relations/financial-results'),\n",
       " Document(id='2a9dd795-9f93-4e12-ba3f-cacf40966280', metadata={'source': 'D:\\\\ML\\\\LangChain RAG Crash Course\\\\Data\\\\HDFC Quarterly Results.docx'}, page_content='CIN: L65920MH1994PLC080618\\n\\nHDFC Bank Limited,\\n\\nEmail: shareholder.grievances@hdfcbank.com\\n\\nHDFC House,\\n\\nWebsite: www.hdfcbank.com\\n\\nH.T.  Parekh  Marg  165-166,  Backbay\\n\\n\\n\\n\\n\\nReclamation,   Churchgate,   Mumbai-\\n\\n\\n\\n\\n\\n400020 Tel.:022-66316000\\n\\nRef. No. SE/2024-25/85\\n\\n\\n\\n\\n\\nOctober 25, 2024\\n\\n\\n\\n\\n\\nBSE Limited\\n\\nNational Stock Exchange of India Limited\\n\\nDept of Corporate Services\\n\\nThe Listing Department\\n\\n\\n\\nPhiroze Jeejeebhoy Towers,\\n\\nExchange Plaza\\n\\n\\n\\nDalal Street, Fort,\\n\\nBandra Kurla Complex,\\n\\n\\n\\nMumbai 400 001\\n\\nMumbai 400 051\\n\\n\\n\\n\\n\\n\\n\\nDear Sirs,\\n\\n\\n\\nSub: Transcript of Earnings Call for the quarter and half year ended September 30, 2024')]"
      ]
     },
     "execution_count": 93,
     "metadata": {},
     "output_type": "execute_result"
    }
   ],
   "source": [
    "retriever = vector_store.as_retriever(search_kwargs={\"k\":2})\n",
    "retriever.invoke(query)"
   ]
  },
  {
   "cell_type": "code",
   "execution_count": 94,
   "metadata": {},
   "outputs": [],
   "source": [
    "from langchain_core.prompts import ChatPromptTemplate\n",
    "\n",
    "template = \"\"\"\n",
    "Answer the question based only on the following context:\n",
    "{context}\n",
    "\n",
    "Question: {question}\n",
    "\n",
    "Answer: \n",
    "\"\"\"\n",
    "prompt = ChatPromptTemplate.from_template(template)"
   ]
  },
  {
   "cell_type": "code",
   "execution_count": 95,
   "metadata": {},
   "outputs": [
    {
     "data": {
      "text/plain": [
       "ChatPromptValue(messages=[HumanMessage(content=\"\\nAnswer the question based only on the following context:\\n[Document(id='3f61be07-0d14-4162-affc-b18f44bb8a76', metadata={'page': 0, 'source': 'D:\\\\\\\\ML\\\\\\\\LangChain RAG Crash Course\\\\\\\\Data\\\\\\\\HDFC Quarterly Results.pdf'}, page_content='Regd. Office: HDFC Bank Limited, HDFC Bank House, Senapati Bapat Marg, Lower Parel (West), Mumbai – 400 013 \\\\n \\\\n \\\\n \\\\n \\\\nRef. No. SE/2024-25/85  \\\\n \\\\nOctober 25, 2024 \\\\n \\\\nBSE Limited     National Stock Exchange of India Limited  \\\\nDept of Corporate Services   The Listing Department \\\\nPhiroze Jeejeebhoy Towers,   Exchange Plaza \\\\nDalal Street, Fort,    Bandra Kurla Complex, \\\\nMumbai 400 001    Mumbai 400 051 \\\\n \\\\nDear Sirs, \\\\n \\\\nSub: Transcript of Earnings Call for the quarter and half year ended September 30, \\\\n2024  \\\\n \\\\nWe wish to inform you that pursuant to Regulation 30 of the SEBI (Listing Obligations and \\\\nDisclosure Requirements) Regulations, 2015, the transcript of the Earnings Call with analysts \\\\nand investors held on October 19, 2024 with respect to the financial results of the Bank for \\\\nthe quarter and half year ended September 30, 2024, has been made available on the website \\\\nof the Bank at the below link:  \\\\n \\\\nhttps://www.hdfcbank.com/personal/about-us/investor-relations/financial-results'), Document(id='2a9dd795-9f93-4e12-ba3f-cacf40966280', metadata={'source': 'D:\\\\\\\\ML\\\\\\\\LangChain RAG Crash Course\\\\\\\\Data\\\\\\\\HDFC Quarterly Results.docx'}, page_content='CIN: L65920MH1994PLC080618\\\\n\\\\nHDFC Bank Limited,\\\\n\\\\nEmail: shareholder.grievances@hdfcbank.com\\\\n\\\\nHDFC House,\\\\n\\\\nWebsite: www.hdfcbank.com\\\\n\\\\nH.T.  Parekh  Marg  165-166,  Backbay\\\\n\\\\n\\\\n\\\\n\\\\n\\\\nReclamation,   Churchgate,   Mumbai-\\\\n\\\\n\\\\n\\\\n\\\\n\\\\n400020 Tel.:022-66316000\\\\n\\\\nRef. No. SE/2024-25/85\\\\n\\\\n\\\\n\\\\n\\\\n\\\\nOctober 25, 2024\\\\n\\\\n\\\\n\\\\n\\\\n\\\\nBSE Limited\\\\n\\\\nNational Stock Exchange of India Limited\\\\n\\\\nDept of Corporate Services\\\\n\\\\nThe Listing Department\\\\n\\\\n\\\\n\\\\nPhiroze Jeejeebhoy Towers,\\\\n\\\\nExchange Plaza\\\\n\\\\n\\\\n\\\\nDalal Street, Fort,\\\\n\\\\nBandra Kurla Complex,\\\\n\\\\n\\\\n\\\\nMumbai 400 001\\\\n\\\\nMumbai 400 051\\\\n\\\\n\\\\n\\\\n\\\\n\\\\n\\\\n\\\\nDear Sirs,\\\\n\\\\n\\\\n\\\\nSub: Transcript of Earnings Call for the quarter and half year ended September 30, 2024')]\\n\\nQuestion: HDFC Bank's results are for which quarter?\\n\\nAnswer: \\n\", additional_kwargs={}, response_metadata={})])"
      ]
     },
     "execution_count": 95,
     "metadata": {},
     "output_type": "execute_result"
    }
   ],
   "source": [
    "from langchain.schema.runnable import RunnablePassthrough\n",
    "\n",
    "rag_chain = (\n",
    "    {\n",
    "        \"context\": retriever,               # chunks retrieved based on similarity with query\n",
    "        \"question\": RunnablePassthrough()   # query pass in invoke method\n",
    "     } | prompt\n",
    ")\n",
    "rag_chain.invoke(query)"
   ]
  },
  {
   "cell_type": "code",
   "execution_count": 96,
   "metadata": {},
   "outputs": [
    {
     "data": {
      "text/plain": [
       "ChatPromptValue(messages=[HumanMessage(content=\"\\nAnswer the question based only on the following context:\\nRegd. Office: HDFC Bank Limited, HDFC Bank House, Senapati Bapat Marg, Lower Parel (West), Mumbai – 400 013 \\n \\n \\n \\n \\nRef. No. SE/2024-25/85  \\n \\nOctober 25, 2024 \\n \\nBSE Limited     National Stock Exchange of India Limited  \\nDept of Corporate Services   The Listing Department \\nPhiroze Jeejeebhoy Towers,   Exchange Plaza \\nDalal Street, Fort,    Bandra Kurla Complex, \\nMumbai 400 001    Mumbai 400 051 \\n \\nDear Sirs, \\n \\nSub: Transcript of Earnings Call for the quarter and half year ended September 30, \\n2024  \\n \\nWe wish to inform you that pursuant to Regulation 30 of the SEBI (Listing Obligations and \\nDisclosure Requirements) Regulations, 2015, the transcript of the Earnings Call with analysts \\nand investors held on October 19, 2024 with respect to the financial results of the Bank for \\nthe quarter and half year ended September 30, 2024, has been made available on the website \\nof the Bank at the below link:  \\n \\nhttps://www.hdfcbank.com/personal/about-us/investor-relations/financial-results\\n\\nCIN: L65920MH1994PLC080618\\n\\nHDFC Bank Limited,\\n\\nEmail: shareholder.grievances@hdfcbank.com\\n\\nHDFC House,\\n\\nWebsite: www.hdfcbank.com\\n\\nH.T.  Parekh  Marg  165-166,  Backbay\\n\\n\\n\\n\\n\\nReclamation,   Churchgate,   Mumbai-\\n\\n\\n\\n\\n\\n400020 Tel.:022-66316000\\n\\nRef. No. SE/2024-25/85\\n\\n\\n\\n\\n\\nOctober 25, 2024\\n\\n\\n\\n\\n\\nBSE Limited\\n\\nNational Stock Exchange of India Limited\\n\\nDept of Corporate Services\\n\\nThe Listing Department\\n\\n\\n\\nPhiroze Jeejeebhoy Towers,\\n\\nExchange Plaza\\n\\n\\n\\nDalal Street, Fort,\\n\\nBandra Kurla Complex,\\n\\n\\n\\nMumbai 400 001\\n\\nMumbai 400 051\\n\\n\\n\\n\\n\\n\\n\\nDear Sirs,\\n\\n\\n\\nSub: Transcript of Earnings Call for the quarter and half year ended September 30, 2024\\n\\nQuestion: HDFC Bank's results are for which quarter?\\n\\nAnswer: \\n\", additional_kwargs={}, response_metadata={})])"
      ]
     },
     "execution_count": 96,
     "metadata": {},
     "output_type": "execute_result"
    }
   ],
   "source": [
    "def doc2str(docs):\n",
    "    return \"\\n\\n\".join(doc.page_content for doc in docs)\n",
    "\n",
    "rag_chain = (\n",
    "    {\"context\": retriever | doc2str,\n",
    "     \"question\": RunnablePassthrough()} | prompt\n",
    ")\n",
    "rag_chain.invoke(query)"
   ]
  },
  {
   "cell_type": "code",
   "execution_count": 99,
   "metadata": {},
   "outputs": [
    {
     "data": {
      "text/plain": [
       "\"HDFC Bank's results are for which quarter?\""
      ]
     },
     "execution_count": 99,
     "metadata": {},
     "output_type": "execute_result"
    }
   ],
   "source": [
    "query"
   ]
  },
  {
   "cell_type": "code",
   "execution_count": 100,
   "metadata": {},
   "outputs": [
    {
     "name": "stdout",
     "output_type": "stream",
     "text": [
      "HDFC Bank's results are for the quarter ended September 30, 2024.\n"
     ]
    }
   ],
   "source": [
    "# complete rag chain\n",
    "rag_chain = (\n",
    "    {\"context\": retriever | doc2str, \"question\": RunnablePassthrough()}\n",
    "    | prompt \n",
    "    | llm \n",
    "    | StrOutputParser()\n",
    ")\n",
    "\n",
    "query = \"HDFC Bank's results are for which quarter?\"\n",
    "\n",
    "response = rag_chain.invoke(query)\n",
    "\n",
    "print(response)"
   ]
  },
  {
   "cell_type": "markdown",
   "metadata": {},
   "source": [
    "# Conversation RAG\n",
    "RAG with Chat History"
   ]
  },
  {
   "cell_type": "code",
   "execution_count": 103,
   "metadata": {},
   "outputs": [
    {
     "data": {
      "text/plain": [
       "[HumanMessage(content=\"HDFC Bank's results are for which quarter?\", additional_kwargs={}, response_metadata={}),\n",
       " AIMessage(content=\"HDFC Bank's results are for the quarter ended September 30, 2024.\", additional_kwargs={}, response_metadata={})]"
      ]
     },
     "execution_count": 103,
     "metadata": {},
     "output_type": "execute_result"
    }
   ],
   "source": [
    "# example conversation\n",
    "from langchain_core.messages import HumanMessage, AIMessage\n",
    "\n",
    "chat_history = []\n",
    "chat_history.extend([\n",
    "    HumanMessage(content=query),\n",
    "    AIMessage(content=response)\n",
    "])\n",
    "chat_history"
   ]
  },
  {
   "cell_type": "code",
   "execution_count": 104,
   "metadata": {},
   "outputs": [
    {
     "data": {
      "text/plain": [
       "'Where is HDFC Bank headquartered?'"
      ]
     },
     "execution_count": 104,
     "metadata": {},
     "output_type": "execute_result"
    }
   ],
   "source": [
    "from langchain_core.prompts import MessagesPlaceholder\n",
    "\n",
    "contextualize_q_system_prompt = (\n",
    "    \"Given a chat history and the latest user question\"\n",
    "    \"which might reference context in the chat history,\"\n",
    "    \"formulate a standalone question which can be understood\"\n",
    "    \"without the chat history. Do NOT answer the question,\"\n",
    "    \"just reformulate it if needed and otherwise return it as is.\"\n",
    ")\n",
    "\n",
    "contextualize_q_system_prompt = ChatPromptTemplate.from_messages(\n",
    "    [\n",
    "        (\"system\", contextualize_q_system_prompt),\n",
    "        MessagesPlaceholder(\"chat_history\"),\n",
    "        (\"human\", \"{input}\")\n",
    "    ]\n",
    ")\n",
    "contextualize_chain = contextualize_q_system_prompt | llm | StrOutputParser()\n",
    "contextualize_chain.invoke({\"input\": \"Where is it headquartered?\", \"chat_history\": chat_history})"
   ]
  },
  {
   "cell_type": "code",
   "execution_count": 107,
   "metadata": {},
   "outputs": [
    {
     "data": {
      "text/plain": [
       "[Document(id='f920b4d6-1c23-470a-bf83-9566aebc2525', metadata={'page': 0, 'source': 'D:\\\\ML\\\\LangChain RAG Crash Course\\\\Data\\\\Reliance Quarterly Results.pdf'}, page_content='Regd. Office: 3rd Floor, Maker Chambers IV, 222, Nariman Point, Mumbai- 400 021, India \\nPhone #: +91-22-3555 5000, Telefax: +91-22-2204 2268. E-mail: investor.relations@ril.com, Website: www.ril.com \\nCIN- L17110MH1973PLC019786 \\n \\n \\nJanuary 17, 2025 \\n \\nBSE Limited \\nPhiroze Jeejeebhoy Towers, \\nDalal Street, \\nMumbai 400 001 \\n \\nNational Stock Exchange of India Limited \\nExchange Plaza, Plot No. C/1,  \\nG Block, Bandra - Kurla Complex,  \\nBandra (East), Mumbai 400 051 \\n \\nScrip Code: 500325  \\n \\nTrading Symbol: RELIANCE \\nDear Sirs, \\n \\nSub:   Audio / video recording and transcript of the presentation made to the analysts \\non the Unaudited Financial Results (Consolidated and Standalone) for the \\nquarter and nine months ended December 31, 2024 \\n \\nPursuant to Regulation 30 of the Securities and Exchange Board of India (Listing Obligations \\nand Disclosure Requirements) Regulations, 2015, the transcript of the presentation made to'),\n",
       " Document(id='05f2a634-909c-4d46-a915-c349b293220b', metadata={'page': 12, 'source': 'D:\\\\ML\\\\LangChain RAG Crash Course\\\\Data\\\\Reliance Quarterly Results.pdf'}, page_content='12 © Reliance Industries Limited 2020 \\nregistered customer base was up 15% at 338 million , footfalls was up 5% and number of \\ntransactions was up 11% on a Y-o-Y basis. \\n \\nOur digital and new commerce continues to contribute. The contribution has remained steady \\nat about 18%. We opened 779 new stores during the quarter. The total store count stands at \\n19,100. \\n \\nWe continue to expand our partnerships. So, to address the super luxury segment in India, \\nwe entered into a franchise for India with Saks Fifth Avenue, which is a global luxury retailer. \\nAlso, in order to further strengthen the IP, we have done a joint venture with Mothercare PLC, \\nwhere we own majority stake in the SPV, which owns the Mothercare brand for the Indian \\nsubcontinent. Now that gives us ownership of the IP  and gives us a lot more flexibility to \\nexpand the range, source locally, as well as improve the margins. So, it is quite a positive for \\nus.')]"
      ]
     },
     "execution_count": 107,
     "metadata": {},
     "output_type": "execute_result"
    }
   ],
   "source": [
    "retriever.invoke(\"Where is it headquartered?\")"
   ]
  },
  {
   "cell_type": "code",
   "execution_count": 106,
   "metadata": {},
   "outputs": [
    {
     "data": {
      "text/plain": [
       "[Document(id='c654bc8f-9148-4b1b-930d-cb610c01a0bb', metadata={'page': 2, 'source': 'D:\\\\ML\\\\LangChain RAG Crash Course\\\\Data\\\\HDFC Quarterly Results.pdf'}, page_content=\"HDFC Bank Limited \\n  October 19, 2024 \\n \\nPage 2 of 16 \\n \\nClassification - Public \\nClassification - Pubic \\nModerator: Ladies and gentlemen, good day and welcome to HDFC Bank Limited ’s Q2 FY '25 Earnings \\nConference Call. As a reminder, all participant lines will be in the listen -only mode and there \\nwill be an opportunity for you to ask questions after the presentation concludes. Should you need \\nassistance during this conference call, pl ease signal an operator by pressing  star, then zero on \\nyour touchtone phone. Please note that this conference is being recorded. \\nI now hand the conference over to Mr. Srinivasan Vaidyanathan, Chief Financial Officer, HDFC \\nBank. Thank you, and over to you, sir. \\nSrinivasan Vaidyanathan: Thank you, Neerav. Welcome to all the participants. I appreciate you all dialing in today. We'll \\nstart, we have our CEO and Managing Director, Mr. Sashi Jagdishan with us. We'll start with \\nhis opening remarks and then get back to you all. Sashi, over to you.\"),\n",
       " Document(id='746ffa80-6bcc-40c6-9b31-c86a9b40b3d6', metadata={'source': 'D:\\\\ML\\\\LangChain RAG Crash Course\\\\Data\\\\HDFC Quarterly Results.docx'}, page_content=\"Classification - Public\\n\\n\\n\\nClassification - Public\\n\\n\\n\\n\\n\\nHDFC Bank Limited\\n\\nOctober 19, 2024\\n\\n\\n\\n\\tModerator:\\tLadies and gentlemen, good day and welcome to HDFC Bank Limited’s Q2 FY '25 Earnings Conference Call. As a reminder, all participant lines will be in the listen-only mode and there will be an opportunity for you to ask questions after the presentation concludes. Should you need assistance during this conference call, please signal an operator by pressing star, then zero on your touchtone phone. Please note that this conference is being recorded.\\n\\n\\n\\nI now hand the conference over to Mr. Srinivasan Vaidyanathan, Chief Financial Officer, HDFC Bank. Thank you, and over to you, sir.\\n\\n\\n\\n\\tSrinivasan Vaidyanathan:\\tThank you, Neerav. Welcome to all the participants. I appreciate you all dialing in today. We'll start, we have our CEO and Managing Director, Mr. Sashi Jagdishan with us. We'll start with his opening remarks and then get back to you all. Sashi, over to you.\")]"
      ]
     },
     "execution_count": 106,
     "metadata": {},
     "output_type": "execute_result"
    }
   ],
   "source": [
    "retriever.invoke('Where is HDFC Bank headquartered?')"
   ]
  },
  {
   "cell_type": "code",
   "execution_count": 105,
   "metadata": {},
   "outputs": [
    {
     "data": {
      "text/plain": [
       "[Document(id='c654bc8f-9148-4b1b-930d-cb610c01a0bb', metadata={'page': 2, 'source': 'D:\\\\ML\\\\LangChain RAG Crash Course\\\\Data\\\\HDFC Quarterly Results.pdf'}, page_content=\"HDFC Bank Limited \\n  October 19, 2024 \\n \\nPage 2 of 16 \\n \\nClassification - Public \\nClassification - Pubic \\nModerator: Ladies and gentlemen, good day and welcome to HDFC Bank Limited ’s Q2 FY '25 Earnings \\nConference Call. As a reminder, all participant lines will be in the listen -only mode and there \\nwill be an opportunity for you to ask questions after the presentation concludes. Should you need \\nassistance during this conference call, pl ease signal an operator by pressing  star, then zero on \\nyour touchtone phone. Please note that this conference is being recorded. \\nI now hand the conference over to Mr. Srinivasan Vaidyanathan, Chief Financial Officer, HDFC \\nBank. Thank you, and over to you, sir. \\nSrinivasan Vaidyanathan: Thank you, Neerav. Welcome to all the participants. I appreciate you all dialing in today. We'll \\nstart, we have our CEO and Managing Director, Mr. Sashi Jagdishan with us. We'll start with \\nhis opening remarks and then get back to you all. Sashi, over to you.\"),\n",
       " Document(id='746ffa80-6bcc-40c6-9b31-c86a9b40b3d6', metadata={'source': 'D:\\\\ML\\\\LangChain RAG Crash Course\\\\Data\\\\HDFC Quarterly Results.docx'}, page_content=\"Classification - Public\\n\\n\\n\\nClassification - Public\\n\\n\\n\\n\\n\\nHDFC Bank Limited\\n\\nOctober 19, 2024\\n\\n\\n\\n\\tModerator:\\tLadies and gentlemen, good day and welcome to HDFC Bank Limited’s Q2 FY '25 Earnings Conference Call. As a reminder, all participant lines will be in the listen-only mode and there will be an opportunity for you to ask questions after the presentation concludes. Should you need assistance during this conference call, please signal an operator by pressing star, then zero on your touchtone phone. Please note that this conference is being recorded.\\n\\n\\n\\nI now hand the conference over to Mr. Srinivasan Vaidyanathan, Chief Financial Officer, HDFC Bank. Thank you, and over to you, sir.\\n\\n\\n\\n\\tSrinivasan Vaidyanathan:\\tThank you, Neerav. Welcome to all the participants. I appreciate you all dialing in today. We'll start, we have our CEO and Managing Director, Mr. Sashi Jagdishan with us. We'll start with his opening remarks and then get back to you all. Sashi, over to you.\")]"
      ]
     },
     "execution_count": 105,
     "metadata": {},
     "output_type": "execute_result"
    }
   ],
   "source": [
    "# history aware retriver from langchain\n",
    "from langchain.chains import create_history_aware_retriever\n",
    "\n",
    "history_aware_retriever = create_history_aware_retriever(\n",
    "    llm, retriever, contextualize_q_system_prompt\n",
    ")\n",
    "history_aware_retriever.invoke({\"input\": \"Where is it headquartered?\", \"chat_history\": chat_history})"
   ]
  },
  {
   "cell_type": "code",
   "execution_count": 111,
   "metadata": {},
   "outputs": [
    {
     "data": {
      "text/plain": [
       "{'input': 'Where is it headquartered?',\n",
       " 'chat_history': [HumanMessage(content=\"HDFC Bank's results are for which quarter?\", additional_kwargs={}, response_metadata={}),\n",
       "  AIMessage(content=\"HDFC Bank's results are for the quarter ended September 30, 2024.\", additional_kwargs={}, response_metadata={})],\n",
       " 'context': [Document(id='c654bc8f-9148-4b1b-930d-cb610c01a0bb', metadata={'page': 2, 'source': 'D:\\\\ML\\\\LangChain RAG Crash Course\\\\Data\\\\HDFC Quarterly Results.pdf'}, page_content=\"HDFC Bank Limited \\n  October 19, 2024 \\n \\nPage 2 of 16 \\n \\nClassification - Public \\nClassification - Pubic \\nModerator: Ladies and gentlemen, good day and welcome to HDFC Bank Limited ’s Q2 FY '25 Earnings \\nConference Call. As a reminder, all participant lines will be in the listen -only mode and there \\nwill be an opportunity for you to ask questions after the presentation concludes. Should you need \\nassistance during this conference call, pl ease signal an operator by pressing  star, then zero on \\nyour touchtone phone. Please note that this conference is being recorded. \\nI now hand the conference over to Mr. Srinivasan Vaidyanathan, Chief Financial Officer, HDFC \\nBank. Thank you, and over to you, sir. \\nSrinivasan Vaidyanathan: Thank you, Neerav. Welcome to all the participants. I appreciate you all dialing in today. We'll \\nstart, we have our CEO and Managing Director, Mr. Sashi Jagdishan with us. We'll start with \\nhis opening remarks and then get back to you all. Sashi, over to you.\"),\n",
       "  Document(id='746ffa80-6bcc-40c6-9b31-c86a9b40b3d6', metadata={'source': 'D:\\\\ML\\\\LangChain RAG Crash Course\\\\Data\\\\HDFC Quarterly Results.docx'}, page_content=\"Classification - Public\\n\\n\\n\\nClassification - Public\\n\\n\\n\\n\\n\\nHDFC Bank Limited\\n\\nOctober 19, 2024\\n\\n\\n\\n\\tModerator:\\tLadies and gentlemen, good day and welcome to HDFC Bank Limited’s Q2 FY '25 Earnings Conference Call. As a reminder, all participant lines will be in the listen-only mode and there will be an opportunity for you to ask questions after the presentation concludes. Should you need assistance during this conference call, please signal an operator by pressing star, then zero on your touchtone phone. Please note that this conference is being recorded.\\n\\n\\n\\nI now hand the conference over to Mr. Srinivasan Vaidyanathan, Chief Financial Officer, HDFC Bank. Thank you, and over to you, sir.\\n\\n\\n\\n\\tSrinivasan Vaidyanathan:\\tThank you, Neerav. Welcome to all the participants. I appreciate you all dialing in today. We'll start, we have our CEO and Managing Director, Mr. Sashi Jagdishan with us. We'll start with his opening remarks and then get back to you all. Sashi, over to you.\")],\n",
       " 'answer': 'HDFC Bank is headquartered in Mumbai, India.'}"
      ]
     },
     "execution_count": 111,
     "metadata": {},
     "output_type": "execute_result"
    }
   ],
   "source": [
    "from langchain.chains import create_retrieval_chain\n",
    "from langchain.chains.combine_documents import create_stuff_documents_chain\n",
    "\n",
    "qa_prompt = ChatPromptTemplate.from_messages([\n",
    "    (\"system\", \"You are a helpful assistant. Use the following context to answer the user's question.\"),\n",
    "    (\"system\", \"Context: {context}\"),\n",
    "    MessagesPlaceholder(variable_name=\"chat_history\"),\n",
    "    (\"human\", \"{input}\")\n",
    "])\n",
    "\n",
    "question_answer_chain = create_stuff_documents_chain(llm, qa_prompt)\n",
    "\n",
    "rag_chain = create_retrieval_chain(history_aware_retriever, question_answer_chain)\n",
    "rag_chain.invoke({\"input\": \"Where is it headquartered?\", \"chat_history\": chat_history})"
   ]
  },
  {
   "cell_type": "markdown",
   "metadata": {},
   "source": [
    "# Multi-User Chatbot"
   ]
  },
  {
   "cell_type": "code",
   "execution_count": 126,
   "metadata": {},
   "outputs": [],
   "source": [
    "import sqlite3\n",
    "from datetime import datetime\n",
    "\n",
    "DB_NAME = \"rag_app.db\"\n",
    "\n",
    "def get_db_connection():\n",
    "    conn = sqlite3.connect(DB_NAME)\n",
    "    conn.row_factory = sqlite3.Row\n",
    "    return conn\n",
    "\n",
    "def create_application_logs():\n",
    "    conn = get_db_connection()\n",
    "    conn.execute(\"\"\"CREATE TABLE IF NOT EXISTS application_logs\n",
    "                 (id INTEGER PRIMARY KEY AUTOINCREMENT,\n",
    "                 session_id TEXT,\n",
    "                 user_query TEXT,\n",
    "                 gpt_response TEXT,\n",
    "                 model TEXT,\n",
    "                 created_at TIMESTAMP DEFAULT CURRENT_TIMESTAMP)\"\"\")\n",
    "    conn.close()\n",
    "\n",
    "def insert_application_logs(session_id, user_query, gpt_response, model):\n",
    "    conn = get_db_connection()\n",
    "    conn.execute(\"INSERT INTO application_logs (session_id, user_query, gpt_response, model) VALUES (?, ?, ?, ?)\",\n",
    "                 (session_id, user_query, gpt_response, model))\n",
    "    conn.commit()\n",
    "    conn.close()\n",
    "\n",
    "def get_chat_history(session_id):\n",
    "    conn = get_db_connection()\n",
    "    cursor = conn.cursor()\n",
    "    cursor.execute(\"\"\"SELECT user_query, gpt_response \n",
    "                   FROM application_logs \n",
    "                   WHERE session_id = ?\n",
    "                   ORDER BY created_at\"\"\", (session_id,))\n",
    "    messages = []\n",
    "    for row in cursor.fetchall():\n",
    "        messages.extend([\n",
    "            {\"role\": \"human\", \"content\": row['user_query']},\n",
    "            {\"role\": \"ai\", \"content\": row['gpt_response']}\n",
    "        ])\n",
    "    conn.close()\n",
    "    return messages\n",
    "\n",
    "# Initialize the database\n",
    "create_application_logs()"
   ]
  },
  {
   "cell_type": "code",
   "execution_count": 128,
   "metadata": {},
   "outputs": [
    {
     "ename": "NameError",
     "evalue": "name 'model' is not defined",
     "output_type": "error",
     "traceback": [
      "\u001b[1;31m---------------------------------------------------------------------------\u001b[0m",
      "\u001b[1;31mNameError\u001b[0m                                 Traceback (most recent call last)",
      "Cell \u001b[1;32mIn[128], line 1\u001b[0m\n\u001b[1;32m----> 1\u001b[0m \u001b[43mmodel\u001b[49m\n",
      "\u001b[1;31mNameError\u001b[0m: name 'model' is not defined"
     ]
    }
   ],
   "source": [
    "model"
   ]
  },
  {
   "cell_type": "code",
   "execution_count": 130,
   "metadata": {},
   "outputs": [
    {
     "name": "stdout",
     "output_type": "stream",
     "text": [
      "7fbc6428-e699-4f39-aba8-6daf3cf09c8b\n",
      "[]\n",
      "Human: HDFC Bank's results are for which quarter?\n",
      "AI: HDFC Bank's results are for the quarter and half year ended September 30, 2024.\n"
     ]
    }
   ],
   "source": [
    "import uuid\n",
    "\n",
    "session_id = str(uuid.uuid4())\n",
    "print(session_id)\n",
    "chat_history = get_chat_history(session_id)\n",
    "print(chat_history)\n",
    "\n",
    "question1 = \"HDFC Bank's results are for which quarter?\"\n",
    "answer1 = rag_chain.invoke({\"input\": question1, \"chat_history\": chat_history})['answer']\n",
    "insert_application_logs(session_id, question1, answer1, MODEL)\n",
    "print(f\"Human: {question1}\")\n",
    "print(f\"AI: {answer1}\")"
   ]
  },
  {
   "cell_type": "code",
   "execution_count": 132,
   "metadata": {},
   "outputs": [
    {
     "name": "stdout",
     "output_type": "stream",
     "text": [
      "[{'role': 'human', 'content': \"HDFC Bank's results are for which quarter?\"}, {'role': 'ai', 'content': \"HDFC Bank's results are for the quarter and half year ended September 30, 2024.\"}]\n",
      "Human: Where is it headquartered?\n",
      "AI: HDFC Bank is headquartered in Mumbai, India.\n"
     ]
    }
   ],
   "source": [
    "question2 = \"Where is it headquartered?\"\n",
    "chat_history = get_chat_history(session_id)\n",
    "print(chat_history)\n",
    "answer2 = rag_chain.invoke({\"input\": question2, \"chat_history\": chat_history})['answer']\n",
    "insert_application_logs(session_id, question2, answer2, MODEL)\n",
    "print(f\"Human: {question2}\")\n",
    "print(f\"AI: {answer2}\")"
   ]
  },
  {
   "cell_type": "code",
   "execution_count": null,
   "metadata": {},
   "outputs": [],
   "source": []
  },
  {
   "cell_type": "code",
   "execution_count": null,
   "metadata": {},
   "outputs": [],
   "source": []
  },
  {
   "cell_type": "code",
   "execution_count": null,
   "metadata": {},
   "outputs": [],
   "source": []
  },
  {
   "cell_type": "code",
   "execution_count": null,
   "metadata": {},
   "outputs": [],
   "source": []
  },
  {
   "cell_type": "markdown",
   "metadata": {},
   "source": [
    "# END"
   ]
  }
 ],
 "metadata": {
  "kernelspec": {
   "display_name": "llm",
   "language": "python",
   "name": "python3"
  },
  "language_info": {
   "codemirror_mode": {
    "name": "ipython",
    "version": 3
   },
   "file_extension": ".py",
   "mimetype": "text/x-python",
   "name": "python",
   "nbconvert_exporter": "python",
   "pygments_lexer": "ipython3",
   "version": "3.10.0"
  }
 },
 "nbformat": 4,
 "nbformat_minor": 2
}
